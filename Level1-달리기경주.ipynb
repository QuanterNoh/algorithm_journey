{
 "cells": [
  {
   "cell_type": "markdown",
   "metadata": {},
   "source": [
    "# 달리기 경주"
   ]
  },
  {
   "cell_type": "markdown",
   "metadata": {},
   "source": [
    "## 문제설명"
   ]
  },
  {
   "cell_type": "markdown",
   "metadata": {},
   "source": [
    "얀에서는 매년 달리기 경주가 열립니다. 해설진들은 선수들이 자기 바로 앞의 선수를 추월할 때 추월한 선수의 이름을 부릅니다. 예를 들어 1등부터 3등까지 \"mumu\", \"soe\", \"poe\" 선수들이 순서대로 달리고 있을 때, 해설진이 \"soe\"선수를 불렀다면 2등인 \"soe\" 선수가 1등인 \"mumu\" 선수를 추월했다는 것입니다. 즉 \"soe\" 선수가 1등, \"mumu\" 선수가 2등으로 바뀝니다.\n",
    "\n",
    "선수들의 이름이 1등부터 현재 등수 순서대로 담긴 문자열 배열 `players`와 해설진이 부른 이름을 담은 문자열 배열 `callings`가 매개변수로 주어질 때, 경주가 끝났을 때 선수들의 이름을 1등부터 등수 순서대로 배열에 담아 return 하는 solution 함수를 완성해주세요."
   ]
  },
  {
   "cell_type": "markdown",
   "metadata": {},
   "source": [
    "## 제한사항"
   ]
  },
  {
   "cell_type": "markdown",
   "metadata": {},
   "source": [
    "- 5 ≤ `players`의 길이 ≤ 50,000\n",
    "    - `players[i]`는 i번째 선수의 이름을 의미합니다.\n",
    "    - `players`의 원소들은 알파벳 소문자로만 이루어져 있습니다.\n",
    "    - `players`에는 중복된 값이 들어가 있지 않습니다.\n",
    "    - 3 ≤ `players[i]`의 길이 ≤ 10\n",
    "- 2 ≤ `callings`의 길이 ≤ 1,000,000\n",
    "    - `callings`는 `players`의 원소들로만 이루어져 있습니다.\n",
    "    - 경주 진행중 1등인 선수의 이름은 불리지 않습니다."
   ]
  },
  {
   "cell_type": "markdown",
   "metadata": {},
   "source": [
    "## 입출력 예"
   ]
  },
  {
   "cell_type": "markdown",
   "metadata": {},
   "source": [
    "|players|callings|result|\n",
    "|:-----:|:-----:|:-----:|\n",
    "|[\"mumu\", \"soe\", \"poe\", \"kai\", \"mine\"]|[\"kai\", \"kai\", \"mine\", \"mine\"]|[\"mumu\", \"kai\", \"mine\", \"soe\", \"poe\"]|"
   ]
  },
  {
   "cell_type": "markdown",
   "metadata": {},
   "source": [
    "## 입출력 예 설명"
   ]
  },
  {
   "cell_type": "markdown",
   "metadata": {},
   "source": [
    "입출력 예 #1\n",
    "\n",
    "4등인 \"kai\" 선수가 2번 추월하여 2등이 되고 앞서 3등, 2등인 \"poe\", \"soe\" 선수는 4등, 3등이 됩니다. 5등인 \"mine\" 선수가 2번 추월하여 4등, 3등인 \"poe\", \"soe\" 선수가 5등, 4등이 되고 경주가 끝납니다. 1등부터 배열에 담으면 [\"mumu\", \"kai\", \"mine\", \"soe\", \"poe\"]이 됩니다."
   ]
  },
  {
   "cell_type": "markdown",
   "metadata": {},
   "source": [
    "## 솔루션"
   ]
  },
  {
   "cell_type": "markdown",
   "metadata": {},
   "source": [
    "### Unoptimized Attempts"
   ]
  },
  {
   "cell_type": "code",
   "execution_count": 7,
   "metadata": {},
   "outputs": [],
   "source": [
    "def solution(players: list, callings: list) -> list:\n",
    "    players = players\n",
    "    callings = callings\n",
    "\n",
    "    for overtake_player in callings:\n",
    "        overtake_player_index = players.index(overtake_player) # 추월할 선수가 속한 위치\n",
    "        temp = players[overtake_player_index - 1] # 추월당한 선수를 임시 저장한 변수\n",
    "        players[overtake_player_index - 1] = players[overtake_player_index]\n",
    "        players[overtake_player_index] = temp\n",
    "    \n",
    "    return players"
   ]
  },
  {
   "cell_type": "markdown",
   "metadata": {},
   "source": [
    "- index() 메서드를 이용해 특정 요소의 위치를 찾게되면 시간 복잡도가 O(n)으로 리스트의 요소가 많아짐에 따라 비례하여 성능 저하가 발생됨.\n",
    "- temp라는 입시 변수를 사용하여 불필요한 추가적인 메모리를 사용함."
   ]
  },
  {
   "cell_type": "markdown",
   "metadata": {},
   "source": [
    "### Successful Solutions"
   ]
  },
  {
   "cell_type": "code",
   "execution_count": 8,
   "metadata": {},
   "outputs": [],
   "source": [
    "def solution(players: list, callings: list) -> list:\n",
    "    player_position = {player:idx for idx, player in enumerate(players)} \n",
    "    \n",
    "    for overtake in callings:\n",
    "        overtake_idx = player_position[overtake]    # 추월할 선수의 현재 등수\n",
    "        overtaken = players[overtake_idx - 1]   # 추월당한 선수\n",
    "\n",
    "        players[overtake_idx - 1], players[overtake_idx] = overtake, overtaken  # 현재 등수 업데이트\n",
    "\n",
    "        player_position[overtaken], player_position[overtake] = overtake_idx, overtake_idx - 1  # 딕셔너리 업데이트\n",
    "\n",
    "    return players"
   ]
  },
  {
   "cell_type": "markdown",
   "metadata": {},
   "source": [
    "- 딕셔너리는 해시 테이블(hash table)이라는 데이터 구조를 기반으로 하며, 키를 해시 함수에 넣어 나온 해시값을 인덱스로 사용해 값을 저장하고 검색한다.\n",
    "- 딕셔너리의 조회 및 수정 시 시간 복잡도는 평균적으로 O(1)이다."
   ]
  },
  {
   "cell_type": "code",
   "execution_count": 9,
   "metadata": {},
   "outputs": [],
   "source": [
    "players = [\"mumu\", \"soe\", \"poe\", \"kai\", \"mine\"]\n",
    "callings = [\"kai\", \"kai\", \"mine\", \"mine\"]"
   ]
  },
  {
   "cell_type": "code",
   "execution_count": 10,
   "metadata": {},
   "outputs": [
    {
     "data": {
      "text/plain": [
       "['mumu', 'kai', 'mine', 'soe', 'poe']"
      ]
     },
     "execution_count": 10,
     "metadata": {},
     "output_type": "execute_result"
    }
   ],
   "source": [
    "solution(players, callings)"
   ]
  }
 ],
 "metadata": {
  "kernelspec": {
   "display_name": "llm_product",
   "language": "python",
   "name": "python3"
  },
  "language_info": {
   "codemirror_mode": {
    "name": "ipython",
    "version": 3
   },
   "file_extension": ".py",
   "mimetype": "text/x-python",
   "name": "python",
   "nbconvert_exporter": "python",
   "pygments_lexer": "ipython3",
   "version": "3.11.4"
  }
 },
 "nbformat": 4,
 "nbformat_minor": 2
}
